{
 "cells": [
  {
   "cell_type": "markdown",
   "id": "49858b5b",
   "metadata": {},
   "source": [
    "meu primer trabalho com python"
   ]
  },
  {
   "cell_type": "code",
   "execution_count": 2,
   "id": "c06ce5bf",
   "metadata": {},
   "outputs": [
    {
     "name": "stdout",
     "output_type": "stream",
     "text": [
      "Meu primeiro codigo\n"
     ]
    }
   ],
   "source": [
    "print('Meu primeiro codigo')"
   ]
  },
  {
   "cell_type": "code",
   "execution_count": null,
   "id": "5a0db392",
   "metadata": {},
   "outputs": [],
   "source": []
  }
 ],
 "metadata": {
  "kernelspec": {
   "display_name": "Python 3 (ipykernel)",
   "language": "python",
   "name": "python3"
  },
  "language_info": {
   "codemirror_mode": {
    "name": "ipython",
    "version": 3
   },
   "file_extension": ".py",
   "mimetype": "text/x-python",
   "name": "python",
   "nbconvert_exporter": "python",
   "pygments_lexer": "ipython3",
   "version": "3.9.13"
  }
 },
 "nbformat": 4,
 "nbformat_minor": 5
}
